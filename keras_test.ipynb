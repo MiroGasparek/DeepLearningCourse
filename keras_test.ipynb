{
  "nbformat": 4,
  "nbformat_minor": 0,
  "metadata": {
    "colab": {
      "name": "keras_test.ipynb",
      "version": "0.3.2",
      "provenance": [],
      "collapsed_sections": [],
      "include_colab_link": true
    },
    "kernelspec": {
      "name": "python3",
      "display_name": "Python 3"
    }
  },
  "cells": [
    {
      "cell_type": "markdown",
      "metadata": {
        "id": "view-in-github",
        "colab_type": "text"
      },
      "source": [
        "<a href=\"https://colab.research.google.com/github/MiroGasparek/DeepLearningCourse/blob/master/keras_test.ipynb\" target=\"_parent\"><img src=\"https://colab.research.google.com/assets/colab-badge.svg\" alt=\"Open In Colab\"/></a>"
      ]
    },
    {
      "metadata": {
        "id": "rSByncQFGoSF",
        "colab_type": "code",
        "colab": {
          "base_uri": "https://localhost:8080/",
          "height": 34
        },
        "outputId": "86b86337-57fb-47bb-9fb9-9225de715a2f"
      },
      "cell_type": "code",
      "source": [
        "# Import the necessary dependencies\n",
        "import numpy as np\n",
        "np.random.seed(123) # for reproducibility\n",
        "\n",
        "from keras.models import Sequential\n",
        "from keras.layers import Dense, Dropout, Activation\n",
        "from keras.utils import np_utils\n",
        "\n",
        "# Import load_model for saving\n",
        "from keras.models import load_model\n",
        "\n",
        "# Import matplotlib for plotting\n",
        "import matplotlib.pyplot as plt\n",
        "\n",
        "from keras.datasets import mnist\n"
      ],
      "execution_count": 1,
      "outputs": [
        {
          "output_type": "stream",
          "text": [
            "Using TensorFlow backend.\n"
          ],
          "name": "stderr"
        }
      ]
    },
    {
      "metadata": {
        "id": "49Yx0LI7hdI4",
        "colab_type": "text"
      },
      "cell_type": "markdown",
      "source": [
        "# **Introduction to Keras**"
      ]
    },
    {
      "metadata": {
        "id": "omLwu7zPljYE",
        "colab_type": "text"
      },
      "cell_type": "markdown",
      "source": [
        "## Loading datasets from Keras \n",
        "We load the image MNIST standard dataset partitioned into their corresponding labels for test data and train data. Also, we vizualize the data, both the input data (hand-written figures) and the labels. "
      ]
    },
    {
      "metadata": {
        "id": "GtupHQu1HWuc",
        "colab_type": "code",
        "colab": {}
      },
      "cell_type": "code",
      "source": [
        "# Now load the data, shuffled and split between the train and test sets\n",
        "(X_train, y_train),(X_test, y_test) = mnist.load_data()"
      ],
      "execution_count": 0,
      "outputs": []
    },
    {
      "metadata": {
        "id": "-1npyf6gHqEl",
        "colab_type": "code",
        "colab": {
          "base_uri": "https://localhost:8080/",
          "height": 396
        },
        "outputId": "20394ca3-48c6-4688-d598-7c1a25a58c83"
      },
      "cell_type": "code",
      "source": [
        "# Look at the images \n",
        "print('Image shape: {0}'.format(X_train.shape[1:]))\n",
        "print('Total number of training samples: {0}'.format(X_train.shape[0]))\n",
        "print('Total number of test samples: {0}'.format(X_test.shape[0]))\n",
        "\n",
        "# Display some of the images\n",
        "N = 5\n",
        "start_val = 0 # an element for the code to plot the following N**2 values\n",
        "fig, axes = plt.subplots(N, N)\n",
        "items = list(range(0, 10))\n",
        "\n",
        "for row in range(N):\n",
        "  for col in range(N):\n",
        "    index = start_val + row + N*col\n",
        "    axes[row,col].imshow(X_train[index], cmap='gray')\n",
        "    fig.subplots_adjust(hspace=0.5)\n",
        "    y_target = int(y_train[index])\n",
        "    target = str(items[y_target])\n",
        "    axes[row,col].set_title(target)\n",
        "    axes[row,col].set_xticks([])\n",
        "    axes[row,col].set_yticks([])"
      ],
      "execution_count": 3,
      "outputs": [
        {
          "output_type": "stream",
          "text": [
            "Image shape: (28, 28)\n",
            "Total number of training samples: 60000\n",
            "Total number of test samples: 10000\n"
          ],
          "name": "stdout"
        },
        {
          "output_type": "display_data",
          "data": {
            "image/png": "[encoded data removed]",
            "text/plain": [
              "<Figure size 576x396 with 25 Axes>"
            ]
          },
          "metadata": {
            "tags": []
          }
        }
      ]
    },
    {
      "metadata": {
        "colab_type": "text",
        "id": "U8S4-FKGr_jd"
      },
      "cell_type": "markdown",
      "source": [
        "## Preprocessing the Keras dataset\n",
        "We will train a simple model to classify the digits on MNIST dataset. To do this, we will reshape images to have a single dimension. Hence the same network could be used for any 1D data. When using Convolutional Neural Network (CNN), we must define a 3D shape for images (depth, width, height) and it will get much higher results."
      ]
    },
    {
      "metadata": {
        "id": "Fxi6FX5iuADt",
        "colab_type": "code",
        "colab": {
          "base_uri": "https://localhost:8080/",
          "height": 51
        },
        "outputId": "88eda03f-3f8d-4e2c-92dd-5b2c0980633a"
      },
      "cell_type": "code",
      "source": [
        "X_train_flatten = X_train.reshape(X_train.shape[0], X_train.shape[1]*X_train.shape[2])\n",
        "X_test_flatten = X_test.reshape(X_test.shape[0], X_test.shape[1] * X_test.shape[2])\n",
        "\n",
        "print('Old X_train shape: {0}'.format(X_train.shape))\n",
        "print('New X_train shape: {0}'.format(X_train_flatten.shape))\n",
        "\n",
        "# Normalize the dataset to the range [0,1] and it will be ready for training the model\n",
        "\n",
        "X_train_flatten = X_train_flatten.astype('float32')\n",
        "X_test_flatten = X_test_flatten.astype('float32')\n",
        "X_train_flatten /= 255\n",
        "X_test_flatten /= 255"
      ],
      "execution_count": 4,
      "outputs": [
        {
          "output_type": "stream",
          "text": [
            "Old X_train shape: (60000, 28, 28)\n",
            "New X_train shape: (60000, 784)\n"
          ],
          "name": "stdout"
        }
      ]
    },
    {
      "metadata": {
        "id": "t33l855avdTX",
        "colab_type": "text"
      },
      "cell_type": "markdown",
      "source": [
        "Now the data are ready. To train the model, we also need to make ready the labels. The `y_train` and `y_test` labels are not split into 10 distinct labels, but rather are represented as a single array with the class values. This is good for regression problem, but we want to make a classifier. So we convert 1D value to 10D vector, each dimension representing one digit value."
      ]
    },
    {
      "metadata": {
        "id": "aXBxk4ohwrM_",
        "colab_type": "code",
        "colab": {
          "base_uri": "https://localhost:8080/",
          "height": 34
        },
        "outputId": "fe12c94b-de25-498d-a189-613b18225387"
      },
      "cell_type": "code",
      "source": [
        "# Convert the 1D labels value to 10D vector\n",
        "Y_train_class = np_utils.to_categorical(y_train,10)\n",
        "Y_test_class = np_utils.to_categorical(y_test,10)\n",
        "\n",
        "print('New Y_train shape: {0}'.format(Y_train_class.shape))"
      ],
      "execution_count": 5,
      "outputs": [
        {
          "output_type": "stream",
          "text": [
            "New Y_train shape: (60000, 10)\n"
          ],
          "name": "stdout"
        }
      ]
    },
    {
      "metadata": {
        "id": "vkQs6oFzxZpZ",
        "colab_type": "text"
      },
      "cell_type": "markdown",
      "source": [
        "## Model Architecture\n",
        "Model architecture definition is a critical step when trying to solve a task. Here we start from the simplest model and then we go to the more complex examples. \n",
        "\n",
        "We first declare a sequential model, which is a linear stack of neural network layers, by passing a list of layer isntances to the constructor."
      ]
    },
    {
      "metadata": {
        "id": "VF-_cIA_PMp1",
        "colab_type": "code",
        "colab": {
          "base_uri": "https://localhost:8080/",
          "height": 105
        },
        "outputId": "a7295d23-0b37-45c4-b280-d4b84a79d699"
      },
      "cell_type": "code",
      "source": [
        "model = Sequential()\n",
        "\n",
        "# Add a fully connected neural network layer with the information about the input, other layers can do inference\n",
        "model.add(Dense(10, input_dim=784)) \n",
        "# Add the appropriate activation function, in this case softmax\n",
        "model.add(Activation('softmax'))\n",
        "\n",
        "# Check model shape output\n",
        "print(model.output_shape)"
      ],
      "execution_count": 6,
      "outputs": [
        {
          "output_type": "stream",
          "text": [
            "WARNING:tensorflow:From /usr/local/lib/python3.6/dist-packages/tensorflow/python/framework/op_def_library.py:263: colocate_with (from tensorflow.python.framework.ops) is deprecated and will be removed in a future version.\n",
            "Instructions for updating:\n",
            "Colocations handled automatically by placer.\n",
            "(None, 10)\n"
          ],
          "name": "stdout"
        }
      ]
    },
    {
      "metadata": {
        "id": "o_zrhDnXQymZ",
        "colab_type": "text"
      },
      "cell_type": "markdown",
      "source": [
        "The dense layer in the model is a fully connected layer with the first parameter being the output size of the layer. Subsequently, Keras automatically handles the connections between layers. The final layer has an output size of 10, corresponding to the 10 classes of digits."
      ]
    },
    {
      "metadata": {
        "id": "j46XxAZoRAYD",
        "colab_type": "code",
        "colab": {
          "base_uri": "https://localhost:8080/",
          "height": 204
        },
        "outputId": "323e3d35-5ddb-46e2-bb9d-0e53a727be42"
      },
      "cell_type": "code",
      "source": [
        "# Check how the model look like\n",
        "model.summary()\n"
      ],
      "execution_count": 7,
      "outputs": [
        {
          "output_type": "stream",
          "text": [
            "_________________________________________________________________\n",
            "Layer (type)                 Output Shape              Param #   \n",
            "=================================================================\n",
            "dense_1 (Dense)              (None, 10)                7850      \n",
            "_________________________________________________________________\n",
            "activation_1 (Activation)    (None, 10)                0         \n",
            "=================================================================\n",
            "Total params: 7,850\n",
            "Trainable params: 7,850\n",
            "Non-trainable params: 0\n",
            "_________________________________________________________________\n"
          ],
          "name": "stdout"
        }
      ]
    },
    {
      "metadata": {
        "id": "1sWoOcSbRL9k",
        "colab_type": "text"
      },
      "cell_type": "markdown",
      "source": [
        "## Compilation\n",
        "Before we start training, we need to configure the learning process, which is done via `compile` method. We need to define three important parameters here : \n",
        "* The loss function that the model will try to minimize\n",
        "* The optimiser to minimize the loss function\n",
        "* The list of metrics you want the model to compute\n",
        "\n",
        "We are doing classification, so we will define the `categorical_crossentropy` as the loss function and we will compute the accuracy metric. There are many other parameters I will explore later, but for now, I will keep them as default.\n",
        "\n"
      ]
    },
    {
      "metadata": {
        "id": "5KlELLEUjKT3",
        "colab_type": "code",
        "colab": {}
      },
      "cell_type": "code",
      "source": [
        "model.compile(loss='categorical_crossentropy',\n",
        "             optimizer='adam',\n",
        "             metrics=['accuracy'])"
      ],
      "execution_count": 0,
      "outputs": []
    },
    {
      "metadata": {
        "id": "T-BoVTjikhzX",
        "colab_type": "text"
      },
      "cell_type": "markdown",
      "source": [
        "## Training\n",
        "In order to train the model, we use the module `fit()`. We need to define the batch size and the number of total epochs the model is going to train. Once done, we can finally train the classifier! "
      ]
    },
    {
      "metadata": {
        "id": "sDlDsz-2ksCB",
        "colab_type": "code",
        "colab": {
          "base_uri": "https://localhost:8080/",
          "height": 429
        },
        "outputId": "e852bc23-e885-4f79-882d-990c730df380"
      },
      "cell_type": "code",
      "source": [
        "history = model.fit(X_train_flatten, Y_train_class, batch_size=32, epochs=10)"
      ],
      "execution_count": 9,
      "outputs": [
        {
          "output_type": "stream",
          "text": [
            "WARNING:tensorflow:From /usr/local/lib/python3.6/dist-packages/tensorflow/python/ops/math_ops.py:3066: to_int32 (from tensorflow.python.ops.math_ops) is deprecated and will be removed in a future version.\n",
            "Instructions for updating:\n",
            "Use tf.cast instead.\n",
            "Epoch 1/10\n",
            "60000/60000 [==============================] - 3s 47us/step - loss: 0.4688 - acc: 0.8763\n",
            "Epoch 2/10\n",
            "60000/60000 [==============================] - 3s 43us/step - loss: 0.3035 - acc: 0.9156\n",
            "Epoch 3/10\n",
            "60000/60000 [==============================] - 3s 44us/step - loss: 0.2829 - acc: 0.9207\n",
            "Epoch 4/10\n",
            "60000/60000 [==============================] - 3s 44us/step - loss: 0.2731 - acc: 0.9240\n",
            "Epoch 5/10\n",
            "60000/60000 [==============================] - 3s 46us/step - loss: 0.2664 - acc: 0.9253\n",
            "Epoch 6/10\n",
            "60000/60000 [==============================] - 3s 45us/step - loss: 0.2617 - acc: 0.9274\n",
            "Epoch 7/10\n",
            "60000/60000 [==============================] - 3s 48us/step - loss: 0.2584 - acc: 0.9288\n",
            "Epoch 8/10\n",
            "60000/60000 [==============================] - 3s 46us/step - loss: 0.2552 - acc: 0.9298\n",
            "Epoch 9/10\n",
            "60000/60000 [==============================] - 3s 50us/step - loss: 0.2528 - acc: 0.9301\n",
            "Epoch 10/10\n",
            "60000/60000 [==============================] - 3s 48us/step - loss: 0.2508 - acc: 0.9305\n"
          ],
          "name": "stdout"
        }
      ]
    },
    {
      "metadata": {
        "id": "XwbyrwXDk6vz",
        "colab_type": "text"
      },
      "cell_type": "markdown",
      "source": [
        "Now we might want to train the model until it converges and we do not know how many epochs it will take. We can use callbacks to define the early-stopping rules. In addition, we can use those callbacks to save the model's weights or log history along the training process. We will later see some examples. \n",
        "\n",
        "Sometimes, the training curves can give some information. In order to visualize them, we could use the information saved on the training history:"
      ]
    },
    {
      "metadata": {
        "id": "yRr0DX9pln4w",
        "colab_type": "code",
        "colab": {
          "base_uri": "https://localhost:8080/",
          "height": 393
        },
        "outputId": "30bf8322-5e15-4571-ae8f-e2b64c263506"
      },
      "cell_type": "code",
      "source": [
        "fig, axes = plt.subplots(2,1)\n",
        "axes[0].plot(history.history['acc'])\n",
        "axes[0].set_title('Model Accuracy')\n",
        "axes[0].set_ylabel('Accuracy')\n",
        "axes[0].set_xlabel('Epoch')\n",
        "\n",
        "fig.subplots_adjust(hspace=0.5)\n",
        "\n",
        "axes[1].plot(history.history['loss'],'g')\n",
        "axes[1].set_title('Model Loss')\n",
        "axes[1].set_ylabel('Cross Entropy Loss')\n",
        "axes[1].set_xlabel('Epoch')"
      ],
      "execution_count": 10,
      "outputs": [
        {
          "output_type": "execute_result",
          "data": {
            "text/plain": [
              "Text(0.5, 0, 'Epoch')"
            ]
          },
          "metadata": {
            "tags": []
          },
          "execution_count": 10
        },
        {
          "output_type": "display_data",
          "data": {
            "image/png": "[encoded data removed]",
            "text/plain": [
              "<Figure size 576x396 with 2 Axes>"
            ]
          },
          "metadata": {
            "tags": []
          }
        }
      ]
    },
    {
      "metadata": {
        "id": "-jwlMVeKrLOg",
        "colab_type": "text"
      },
      "cell_type": "markdown",
      "source": [
        "## Evaluating model\n",
        "Now we can evaluate the model on the test data:"
      ]
    },
    {
      "metadata": {
        "id": "aDJlsXBfmQLJ",
        "colab_type": "code",
        "colab": {
          "base_uri": "https://localhost:8080/",
          "height": 51
        },
        "outputId": "d5091eea-2bd5-4c79-ca81-eb8440adad60"
      },
      "cell_type": "code",
      "source": [
        "score = model.evaluate(X_test_flatten, Y_test_class, verbose=0)\n",
        "print('Test loss: ', score[0])\n",
        "print('Test accuracy: ', score[1])"
      ],
      "execution_count": 11,
      "outputs": [
        {
          "output_type": "stream",
          "text": [
            "Test loss:  0.2638293676942587\n",
            "Test accuracy:  0.9265\n"
          ],
          "name": "stdout"
        }
      ]
    },
    {
      "metadata": {
        "id": "-MYAIhf5moOU",
        "colab_type": "text"
      },
      "cell_type": "markdown",
      "source": [
        "## Training a simple multi-layer perceptron\n",
        "Previously, we have trained the simplest network. Here we show how to combine the different sequential layers and we define more complex model in order to see how that affects final test accuracy."
      ]
    },
    {
      "metadata": {
        "id": "_7zxAD7Dm1Bh",
        "colab_type": "code",
        "colab": {
          "base_uri": "https://localhost:8080/",
          "height": 310
        },
        "outputId": "264b41a7-66f8-4f75-ea46-aa776dcf0870"
      },
      "cell_type": "code",
      "source": [
        "model2 = Sequential()\n",
        "model2.add(Dense(100, activation='relu', input_shape=(784,)))\n",
        "model2.add(Dropout(0.2))\n",
        "model2.add(Dense(10, activation='softmax'))\n",
        "\n",
        "model2.summary()"
      ],
      "execution_count": 12,
      "outputs": [
        {
          "output_type": "stream",
          "text": [
            "WARNING:tensorflow:From /usr/local/lib/python3.6/dist-packages/keras/backend/tensorflow_backend.py:3445: calling dropout (from tensorflow.python.ops.nn_ops) with keep_prob is deprecated and will be removed in a future version.\n",
            "Instructions for updating:\n",
            "Please use `rate` instead of `keep_prob`. Rate should be set to `rate = 1 - keep_prob`.\n",
            "_________________________________________________________________\n",
            "Layer (type)                 Output Shape              Param #   \n",
            "=================================================================\n",
            "dense_2 (Dense)              (None, 100)               78500     \n",
            "_________________________________________________________________\n",
            "dropout_1 (Dropout)          (None, 100)               0         \n",
            "_________________________________________________________________\n",
            "dense_3 (Dense)              (None, 10)                1010      \n",
            "=================================================================\n",
            "Total params: 79,510\n",
            "Trainable params: 79,510\n",
            "Non-trainable params: 0\n",
            "_________________________________________________________________\n"
          ],
          "name": "stdout"
        }
      ]
    },
    {
      "metadata": {
        "id": "Fc5J8MuknNrV",
        "colab_type": "text"
      },
      "cell_type": "markdown",
      "source": [
        "We have increased the number of parameters 10-fold just in a few lines! Now we are using an extra dense layer, this one having a higher number of units. The number of units defines the dimensionality of the output space, that is why, we need the last layer to have the same number of digit classes. \n",
        "\n",
        "In addition, we use ReLU (rectified linear unit) activation function in first dense layer. We also added a Dropout layer, which is a method for regularising the model in order to prevent overfitting. \n",
        "\n",
        "Here we can train the new model and visualize the model curves: \n"
      ]
    },
    {
      "metadata": {
        "id": "LKNAZUKtpDfE",
        "colab_type": "code",
        "colab": {
          "base_uri": "https://localhost:8080/",
          "height": 734
        },
        "outputId": "6b8c3fd2-7849-4ff3-875f-fce12d60103a"
      },
      "cell_type": "code",
      "source": [
        "# Compile the model, set the loss, select optimizer, and the metrics\n",
        "model2.compile(loss='categorical_crossentropy',\n",
        "               optimizer='adam',\n",
        "               metrics=['accuracy'])\n",
        "\n",
        "# Fit the model \n",
        "history2 = model2.fit(X_train_flatten, Y_train_class, batch_size=32, epochs=10)\n",
        "\n",
        "fig, axes = plt.subplots(2,1)\n",
        "axes[0].plot(history2.history['acc'])\n",
        "axes[0].set_title('Model Accuracy')\n",
        "axes[0].set_ylabel('Accuracy')\n",
        "axes[0].set_xlabel('Epoch')\n",
        "\n",
        "fig.subplots_adjust(hspace=0.5)\n",
        "\n",
        "axes[1].plot(history2.history['loss'], 'g')\n",
        "axes[1].set_title('Model Loss')\n",
        "axes[1].set_ylabel('Cross Entropy Loss')\n",
        "axes[1].set_xlabel('Epoch')"
      ],
      "execution_count": 13,
      "outputs": [
        {
          "output_type": "stream",
          "text": [
            "Epoch 1/10\n",
            "60000/60000 [==============================] - 8s 131us/step - loss: 0.3210 - acc: 0.9081\n",
            "Epoch 2/10\n",
            "60000/60000 [==============================] - 8s 132us/step - loss: 0.1572 - acc: 0.9533\n",
            "Epoch 3/10\n",
            "60000/60000 [==============================] - 6s 107us/step - loss: 0.1199 - acc: 0.9643\n",
            "Epoch 4/10\n",
            "60000/60000 [==============================] - 6s 92us/step - loss: 0.1012 - acc: 0.9685\n",
            "Epoch 5/10\n",
            "60000/60000 [==============================] - 5s 90us/step - loss: 0.0887 - acc: 0.9718\n",
            "Epoch 6/10\n",
            "60000/60000 [==============================] - 5s 89us/step - loss: 0.0788 - acc: 0.9762\n",
            "Epoch 7/10\n",
            "60000/60000 [==============================] - 6s 96us/step - loss: 0.0710 - acc: 0.9776\n",
            "Epoch 8/10\n",
            "60000/60000 [==============================] - 6s 96us/step - loss: 0.0661 - acc: 0.9782\n",
            "Epoch 9/10\n",
            "60000/60000 [==============================] - 6s 92us/step - loss: 0.0596 - acc: 0.9807\n",
            "Epoch 10/10\n",
            "60000/60000 [==============================] - 6s 93us/step - loss: 0.0554 - acc: 0.9821\n"
          ],
          "name": "stdout"
        },
        {
          "output_type": "execute_result",
          "data": {
            "text/plain": [
              "Text(0.5, 0, 'Epoch')"
            ]
          },
          "metadata": {
            "tags": []
          },
          "execution_count": 13
        },
        {
          "output_type": "display_data",
          "data": {
            "image/png": "[encoded data removed]",
            "text/plain": [
              "<Figure size 576x396 with 2 Axes>"
            ]
          },
          "metadata": {
            "tags": []
          }
        }
      ]
    },
    {
      "metadata": {
        "id": "rjMIiwiFtQ-1",
        "colab_type": "text"
      },
      "cell_type": "markdown",
      "source": [
        "## Saving/Loading model"
      ]
    },
    {
      "metadata": {
        "id": "yIPCb08cpmUe",
        "colab_type": "code",
        "colab": {}
      },
      "cell_type": "code",
      "source": [
        "# Save the model as HDF5 file\n",
        "model.save('my_first_model.h5') # Creates a HDF5 file 'my_model.h5'\n",
        "del model # Deletes the existing model\n",
        "\n",
        "# Load a compiled model identical to the previous one\n",
        "model = load_model('my_first_model.h5')\n"
      ],
      "execution_count": 0,
      "outputs": []
    },
    {
      "metadata": {
        "id": "vmZxLebQvJCV",
        "colab_type": "text"
      },
      "cell_type": "markdown",
      "source": [
        "Save model and weights independently:"
      ]
    },
    {
      "metadata": {
        "id": "RR7Rz3IbvLcw",
        "colab_type": "code",
        "colab": {}
      },
      "cell_type": "code",
      "source": [
        "model.save_weights('my_first_model_weights.h5') # Creates a HDF5 file with the corresponding names\n",
        "\n",
        "with open('my_first_model_architecture.')"
      ],
      "execution_count": 0,
      "outputs": []
    }
  ]
}