{
  "nbformat": 4,
  "nbformat_minor": 0,
  "metadata": {
    "colab": {
      "name": "keras_test.ipynb",
      "version": "0.3.2",
      "provenance": [],
      "collapsed_sections": [],
      "include_colab_link": true
    },
    "kernelspec": {
      "name": "python3",
      "display_name": "Python 3"
    }
  },
  "cells": [
    {
      "cell_type": "markdown",
      "metadata": {
        "id": "view-in-github",
        "colab_type": "text"
      },
      "source": [
        "<a href=\"https://colab.research.google.com/github/MiroGasparek/DeepLearningCourse/blob/master/keras_test.ipynb\" target=\"_parent\"><img src=\"https://colab.research.google.com/assets/colab-badge.svg\" alt=\"Open In Colab\"/></a>"
      ]
    },
    {
      "metadata": {
        "id": "rSByncQFGoSF",
        "colab_type": "code",
        "colab": {
          "base_uri": "https://localhost:8080/",
          "height": 34
        },
        "outputId": "950c69aa-7152-4208-a5e6-a77ce597c66b"
      },
      "cell_type": "code",
      "source": [
        "# Import the necessary dependencies\n",
        "import numpy as np\n",
        "np.random.seed(123) # for reproducibility\n",
        "\n",
        "from keras.models import Sequential\n",
        "from keras.layers import Dense, Dropout, Activation\n",
        "from keras.utils import np_utils\n",
        "\n",
        "# Import load_model for saving\n",
        "from keras.models import load_model\n",
        "import h5py\n",
        "\n",
        "from keras.models import model_from_json\n",
        "\n",
        "# Import matplotlib for plotting\n",
        "import matplotlib.pyplot as plt\n",
        "\n",
        "from keras.datasets import mnist\n"
      ],
      "execution_count": 1,
      "outputs": [
        {
          "output_type": "stream",
          "text": [
            "Using TensorFlow backend.\n"
          ],
          "name": "stderr"
        }
      ]
    },
    {
      "metadata": {
        "id": "49Yx0LI7hdI4",
        "colab_type": "text"
      },
      "cell_type": "markdown",
      "source": [
        "# **Introduction to Keras**"
      ]
    },
    {
      "metadata": {
        "id": "omLwu7zPljYE",
        "colab_type": "text"
      },
      "cell_type": "markdown",
      "source": [
        "## Loading datasets from Keras \n",
        "We load the image MNIST standard dataset partitioned into their corresponding labels for test data and train data. Also, we vizualize the data, both the input data (hand-written figures) and the labels. "
      ]
    },
    {
      "metadata": {
        "id": "GtupHQu1HWuc",
        "colab_type": "code",
        "colab": {}
      },
      "cell_type": "code",
      "source": [
        "# Now load the data, shuffled and split between the train and test sets\n",
        "(X_train, y_train),(X_test, y_test) = mnist.load_data()"
      ],
      "execution_count": 0,
      "outputs": []
    },
    {
      "metadata": {
        "id": "-1npyf6gHqEl",
        "colab_type": "code",
        "colab": {
          "base_uri": "https://localhost:8080/",
          "height": 396
        },
        "outputId": "399d7577-4137-4a72-d736-650db11c4238"
      },
      "cell_type": "code",
      "source": [
        "# Look at the images \n",
        "print('Image shape: {0}'.format(X_train.shape[1:]))\n",
        "print('Total number of training samples: {0}'.format(X_train.shape[0]))\n",
        "print('Total number of test samples: {0}'.format(X_test.shape[0]))\n",
        "\n",
        "# Display some of the images\n",
        "N = 5\n",
        "start_val = 0 # an element for the code to plot the following N**2 values\n",
        "fig, axes = plt.subplots(N, N)\n",
        "items = list(range(0, 10))\n",
        "\n",
        "for row in range(N):\n",
        "  for col in range(N):\n",
        "    index = start_val + row + N*col\n",
        "    axes[row,col].imshow(X_train[index], cmap='gray')\n",
        "    fig.subplots_adjust(hspace=0.5)\n",
        "    y_target = int(y_train[index])\n",
        "    target = str(items[y_target])\n",
        "    axes[row,col].set_title(target)\n",
        "    axes[row,col].set_xticks([])\n",
        "    axes[row,col].set_yticks([])"
      ],
      "execution_count": 3,
      "outputs": [
        {
          "output_type": "stream",
          "text": [
            "Image shape: (28, 28)\n",
            "Total number of training samples: 60000\n",
            "Total number of test samples: 10000\n"
          ],
          "name": "stdout"
        },
        {
          "output_type": "display_data",
          "data": {
            "image/png": "[encoded data removed]",
            "text/plain": [
              "<Figure size 576x396 with 25 Axes>"
            ]
          },
          "metadata": {
            "tags": []
          }
        }
      ]
    },
    {
      "metadata": {
        "colab_type": "text",
        "id": "U8S4-FKGr_jd"
      },
      "cell_type": "markdown",
      "source": [
        "## Preprocessing the Keras dataset\n",
        "We will train a simple model to classify the digits on MNIST dataset. To do this, we will reshape images to have a single dimension. Hence the same network could be used for any 1D data. When using Convolutional Neural Network (CNN), we must define a 3D shape for images (depth, width, height) and it will get much higher results."
      ]
    },
    {
      "metadata": {
        "id": "Fxi6FX5iuADt",
        "colab_type": "code",
        "colab": {
          "base_uri": "https://localhost:8080/",
          "height": 51
        },
        "outputId": "d30dcc60-e88f-48d5-cf90-e9a35213eed2"
      },
      "cell_type": "code",
      "source": [
        "X_train_flatten = X_train.reshape(X_train.shape[0], X_train.shape[1]*X_train.shape[2])\n",
        "X_test_flatten = X_test.reshape(X_test.shape[0], X_test.shape[1] * X_test.shape[2])\n",
        "\n",
        "print('Old X_train shape: {0}'.format(X_train.shape))\n",
        "print('New X_train shape: {0}'.format(X_train_flatten.shape))\n",
        "\n",
        "# Normalize the dataset to the range [0,1] and it will be ready for training the model\n",
        "\n",
        "X_train_flatten = X_train_flatten.astype('float32')\n",
        "X_test_flatten = X_test_flatten.astype('float32')\n",
        "X_train_flatten /= 255\n",
        "X_test_flatten /= 255"
      ],
      "execution_count": 4,
      "outputs": [
        {
          "output_type": "stream",
          "text": [
            "Old X_train shape: (60000, 28, 28)\n",
            "New X_train shape: (60000, 784)\n"
          ],
          "name": "stdout"
        }
      ]
    },
    {
      "metadata": {
        "id": "t33l855avdTX",
        "colab_type": "text"
      },
      "cell_type": "markdown",
      "source": [
        "Now the data are ready. To train the model, we also need to make ready the labels. The `y_train` and `y_test` labels are not split into 10 distinct labels, but rather are represented as a single array with the class values. This is good for regression problem, but we want to make a classifier. So we convert 1D value to 10D vector, each dimension representing one digit value."
      ]
    },
    {
      "metadata": {
        "id": "aXBxk4ohwrM_",
        "colab_type": "code",
        "colab": {
          "base_uri": "https://localhost:8080/",
          "height": 34
        },
        "outputId": "6f172ce4-e9b7-42a9-b664-96de2ede35e1"
      },
      "cell_type": "code",
      "source": [
        "# Convert the 1D labels value to 10D vector\n",
        "Y_train_class = np_utils.to_categorical(y_train,10)\n",
        "Y_test_class = np_utils.to_categorical(y_test,10)\n",
        "\n",
        "print('New Y_train shape: {0}'.format(Y_train_class.shape))"
      ],
      "execution_count": 5,
      "outputs": [
        {
          "output_type": "stream",
          "text": [
            "New Y_train shape: (60000, 10)\n"
          ],
          "name": "stdout"
        }
      ]
    },
    {
      "metadata": {
        "id": "vkQs6oFzxZpZ",
        "colab_type": "text"
      },
      "cell_type": "markdown",
      "source": [
        "## Model Architecture\n",
        "Model architecture definition is a critical step when trying to solve a task. Here we start from the simplest model and then we go to the more complex examples. \n",
        "\n",
        "We first declare a sequential model, which is a linear stack of neural network layers, by passing a list of layer isntances to the constructor."
      ]
    },
    {
      "metadata": {
        "id": "VF-_cIA_PMp1",
        "colab_type": "code",
        "colab": {
          "base_uri": "https://localhost:8080/",
          "height": 105
        },
        "outputId": "c0259234-eabc-4499-8ecf-b39cd1f412dd"
      },
      "cell_type": "code",
      "source": [
        "model = Sequential()\n",
        "\n",
        "# Add a fully connected neural network layer with the information about the input, other layers can do inference\n",
        "model.add(Dense(10, input_dim=784)) \n",
        "# Add the appropriate activation function, in this case softmax\n",
        "model.add(Activation('softmax'))\n",
        "\n",
        "# Check model shape output\n",
        "print(model.output_shape)"
      ],
      "execution_count": 6,
      "outputs": [
        {
          "output_type": "stream",
          "text": [
            "WARNING:tensorflow:From /usr/local/lib/python3.6/dist-packages/tensorflow/python/framework/op_def_library.py:263: colocate_with (from tensorflow.python.framework.ops) is deprecated and will be removed in a future version.\n",
            "Instructions for updating:\n",
            "Colocations handled automatically by placer.\n",
            "(None, 10)\n"
          ],
          "name": "stdout"
        }
      ]
    },
    {
      "metadata": {
        "id": "o_zrhDnXQymZ",
        "colab_type": "text"
      },
      "cell_type": "markdown",
      "source": [
        "The dense layer in the model is a fully connected layer with the first parameter being the output size of the layer. Subsequently, Keras automatically handles the connections between layers. The final layer has an output size of 10, corresponding to the 10 classes of digits."
      ]
    },
    {
      "metadata": {
        "id": "j46XxAZoRAYD",
        "colab_type": "code",
        "colab": {
          "base_uri": "https://localhost:8080/",
          "height": 204
        },
        "outputId": "ceb48da9-18f6-4864-a08b-2d4f62ab6e64"
      },
      "cell_type": "code",
      "source": [
        "# Check how the model look like\n",
        "model.summary()\n"
      ],
      "execution_count": 7,
      "outputs": [
        {
          "output_type": "stream",
          "text": [
            "_________________________________________________________________\n",
            "Layer (type)                 Output Shape              Param #   \n",
            "=================================================================\n",
            "dense_1 (Dense)              (None, 10)                7850      \n",
            "_________________________________________________________________\n",
            "activation_1 (Activation)    (None, 10)                0         \n",
            "=================================================================\n",
            "Total params: 7,850\n",
            "Trainable params: 7,850\n",
            "Non-trainable params: 0\n",
            "_________________________________________________________________\n"
          ],
          "name": "stdout"
        }
      ]
    },
    {
      "metadata": {
        "id": "1sWoOcSbRL9k",
        "colab_type": "text"
      },
      "cell_type": "markdown",
      "source": [
        "## Compilation\n",
        "Before we start training, we need to configure the learning process, which is done via `compile` method. We need to define three important parameters here : \n",
        "* The loss function that the model will try to minimize\n",
        "* The optimiser to minimize the loss function\n",
        "* The list of metrics you want the model to compute\n",
        "\n",
        "We are doing classification, so we will define the `categorical_crossentropy` as the loss function and we will compute the accuracy metric. There are many other parameters I will explore later, but for now, I will keep them as default.\n",
        "\n"
      ]
    },
    {
      "metadata": {
        "id": "5KlELLEUjKT3",
        "colab_type": "code",
        "colab": {}
      },
      "cell_type": "code",
      "source": [
        "model.compile(loss='categorical_crossentropy',\n",
        "             optimizer='adam',\n",
        "             metrics=['accuracy'])"
      ],
      "execution_count": 0,
      "outputs": []
    },
    {
      "metadata": {
        "id": "T-BoVTjikhzX",
        "colab_type": "text"
      },
      "cell_type": "markdown",
      "source": [
        "## Training\n",
        "In order to train the model, we use the module `fit()`. We need to define the batch size and the number of total epochs the model is going to train. Once done, we can finally train the classifier! "
      ]
    },
    {
      "metadata": {
        "id": "sDlDsz-2ksCB",
        "colab_type": "code",
        "colab": {
          "base_uri": "https://localhost:8080/",
          "height": 429
        },
        "outputId": "e1e894af-6202-4859-de69-f7d70150ad9a"
      },
      "cell_type": "code",
      "source": [
        "history = model.fit(X_train_flatten, Y_train_class, batch_size=32, epochs=10)"
      ],
      "execution_count": 9,
      "outputs": [
        {
          "output_type": "stream",
          "text": [
            "WARNING:tensorflow:From /usr/local/lib/python3.6/dist-packages/tensorflow/python/ops/math_ops.py:3066: to_int32 (from tensorflow.python.ops.math_ops) is deprecated and will be removed in a future version.\n",
            "Instructions for updating:\n",
            "Use tf.cast instead.\n",
            "Epoch 1/10\n",
            "60000/60000 [==============================] - 3s 46us/step - loss: 0.4690 - acc: 0.8763\n",
            "Epoch 2/10\n",
            "60000/60000 [==============================] - 3s 44us/step - loss: 0.3035 - acc: 0.9156\n",
            "Epoch 3/10\n",
            "60000/60000 [==============================] - 3s 42us/step - loss: 0.2829 - acc: 0.9207\n",
            "Epoch 4/10\n",
            "60000/60000 [==============================] - 3s 43us/step - loss: 0.2731 - acc: 0.9240\n",
            "Epoch 5/10\n",
            "60000/60000 [==============================] - 3s 42us/step - loss: 0.2664 - acc: 0.9253\n",
            "Epoch 6/10\n",
            "60000/60000 [==============================] - 3s 43us/step - loss: 0.2617 - acc: 0.9274\n",
            "Epoch 7/10\n",
            "60000/60000 [==============================] - 3s 43us/step - loss: 0.2584 - acc: 0.9288\n",
            "Epoch 8/10\n",
            "60000/60000 [==============================] - 3s 43us/step - loss: 0.2552 - acc: 0.9298\n",
            "Epoch 9/10\n",
            "60000/60000 [==============================] - 2s 41us/step - loss: 0.2528 - acc: 0.9301\n",
            "Epoch 10/10\n",
            "60000/60000 [==============================] - 2s 42us/step - loss: 0.2508 - acc: 0.9305\n"
          ],
          "name": "stdout"
        }
      ]
    },
    {
      "metadata": {
        "id": "XwbyrwXDk6vz",
        "colab_type": "text"
      },
      "cell_type": "markdown",
      "source": [
        "Now we might want to train the model until it converges and we do not know how many epochs it will take. We can use callbacks to define the early-stopping rules. In addition, we can use those callbacks to save the model's weights or log history along the training process. We will later see some examples. \n",
        "\n",
        "Sometimes, the training curves can give some information. In order to visualize them, we could use the information saved on the training history:"
      ]
    },
    {
      "metadata": {
        "id": "yRr0DX9pln4w",
        "colab_type": "code",
        "colab": {
          "base_uri": "https://localhost:8080/",
          "height": 393
        },
        "outputId": "696814bc-b8ab-4da3-e0e0-6dc30ad18a69"
      },
      "cell_type": "code",
      "source": [
        "fig, axes = plt.subplots(2,1)\n",
        "axes[0].plot(history.history['acc'])\n",
        "axes[0].set_title('Model Accuracy')\n",
        "axes[0].set_ylabel('Accuracy')\n",
        "axes[0].set_xlabel('Epoch')\n",
        "\n",
        "fig.subplots_adjust(hspace=0.5)\n",
        "\n",
        "axes[1].plot(history.history['loss'],'g')\n",
        "axes[1].set_title('Model Loss')\n",
        "axes[1].set_ylabel('Cross Entropy Loss')\n",
        "axes[1].set_xlabel('Epoch')"
      ],
      "execution_count": 10,
      "outputs": [
        {
          "output_type": "execute_result",
          "data": {
            "text/plain": [
              "Text(0.5, 0, 'Epoch')"
            ]
          },
          "metadata": {
            "tags": []
          },
          "execution_count": 10
        },
        {
          "output_type": "display_data",
          "data": {
            "image/png": "[encoded data removed]",
            "text/plain": [
              "<Figure size 576x396 with 2 Axes>"
            ]
          },
          "metadata": {
            "tags": []
          }
        }
      ]
    },
    {
      "metadata": {
        "id": "-jwlMVeKrLOg",
        "colab_type": "text"
      },
      "cell_type": "markdown",
      "source": [
        "## Evaluating model\n",
        "Now we can evaluate the model on the test data:"
      ]
    },
    {
      "metadata": {
        "id": "aDJlsXBfmQLJ",
        "colab_type": "code",
        "colab": {
          "base_uri": "https://localhost:8080/",
          "height": 51
        },
        "outputId": "f2b48cd6-9819-4709-9c72-8f21fa355a86"
      },
      "cell_type": "code",
      "source": [
        "score = model.evaluate(X_test_flatten, Y_test_class, verbose=0)\n",
        "print('Test loss: ', score[0])\n",
        "print('Test accuracy: ', score[1])"
      ],
      "execution_count": 11,
      "outputs": [
        {
          "output_type": "stream",
          "text": [
            "Test loss:  0.26382898873090743\n",
            "Test accuracy:  0.9265\n"
          ],
          "name": "stdout"
        }
      ]
    },
    {
      "metadata": {
        "id": "-MYAIhf5moOU",
        "colab_type": "text"
      },
      "cell_type": "markdown",
      "source": [
        "## Training a simple multi-layer perceptron\n",
        "Previously, we have trained the simplest network. Here we show how to combine the different sequential layers and we define more complex model in order to see how that affects final test accuracy."
      ]
    },
    {
      "metadata": {
        "id": "_7zxAD7Dm1Bh",
        "colab_type": "code",
        "colab": {
          "base_uri": "https://localhost:8080/",
          "height": 310
        },
        "outputId": "0c74425a-1009-4235-8ba2-b0b2f46091ae"
      },
      "cell_type": "code",
      "source": [
        "model2 = Sequential()\n",
        "model2.add(Dense(100, activation='relu', input_shape=(784,)))\n",
        "model2.add(Dropout(0.2))\n",
        "model2.add(Dense(10, activation='softmax'))\n",
        "\n",
        "model2.summary()"
      ],
      "execution_count": 12,
      "outputs": [
        {
          "output_type": "stream",
          "text": [
            "WARNING:tensorflow:From /usr/local/lib/python3.6/dist-packages/keras/backend/tensorflow_backend.py:3445: calling dropout (from tensorflow.python.ops.nn_ops) with keep_prob is deprecated and will be removed in a future version.\n",
            "Instructions for updating:\n",
            "Please use `rate` instead of `keep_prob`. Rate should be set to `rate = 1 - keep_prob`.\n",
            "_________________________________________________________________\n",
            "Layer (type)                 Output Shape              Param #   \n",
            "=================================================================\n",
            "dense_2 (Dense)              (None, 100)               78500     \n",
            "_________________________________________________________________\n",
            "dropout_1 (Dropout)          (None, 100)               0         \n",
            "_________________________________________________________________\n",
            "dense_3 (Dense)              (None, 10)                1010      \n",
            "=================================================================\n",
            "Total params: 79,510\n",
            "Trainable params: 79,510\n",
            "Non-trainable params: 0\n",
            "_________________________________________________________________\n"
          ],
          "name": "stdout"
        }
      ]
    },
    {
      "metadata": {
        "id": "Fc5J8MuknNrV",
        "colab_type": "text"
      },
      "cell_type": "markdown",
      "source": [
        "We have increased the number of parameters 10-fold just in a few lines! Now we are using an extra dense layer, this one having a higher number of units. The number of units defines the dimensionality of the output space, that is why, we need the last layer to have the same number of digit classes. \n",
        "\n",
        "In addition, we use ReLU (rectified linear unit) activation function in first dense layer. We also added a Dropout layer, which is a method for regularising the model in order to prevent overfitting. \n",
        "\n",
        "Here we can train the new model and visualize the model curves: \n"
      ]
    },
    {
      "metadata": {
        "id": "LKNAZUKtpDfE",
        "colab_type": "code",
        "colab": {
          "base_uri": "https://localhost:8080/",
          "height": 734
        },
        "outputId": "04fff6cd-cf82-4e34-ff12-2a0b6e603350"
      },
      "cell_type": "code",
      "source": [
        "# Compile the model, set the loss, select optimizer, and the metrics\n",
        "model2.compile(loss='categorical_crossentropy',\n",
        "               optimizer='adam',\n",
        "               metrics=['accuracy'])\n",
        "\n",
        "# Fit the model \n",
        "history2 = model2.fit(X_train_flatten, Y_train_class, batch_size=32, epochs=10)\n",
        "\n",
        "fig, axes = plt.subplots(2,1)\n",
        "axes[0].plot(history2.history['acc'])\n",
        "axes[0].set_title('Model Accuracy')\n",
        "axes[0].set_ylabel('Accuracy')\n",
        "axes[0].set_xlabel('Epoch')\n",
        "\n",
        "fig.subplots_adjust(hspace=0.5)\n",
        "\n",
        "axes[1].plot(history2.history['loss'], 'g')\n",
        "axes[1].set_title('Model Loss')\n",
        "axes[1].set_ylabel('Cross Entropy Loss')\n",
        "axes[1].set_xlabel('Epoch')"
      ],
      "execution_count": 13,
      "outputs": [
        {
          "output_type": "stream",
          "text": [
            "Epoch 1/10\n",
            "60000/60000 [==============================] - 6s 98us/step - loss: 0.3210 - acc: 0.9083\n",
            "Epoch 2/10\n",
            "60000/60000 [==============================] - 6s 101us/step - loss: 0.1571 - acc: 0.9530\n",
            "Epoch 3/10\n",
            "60000/60000 [==============================] - 6s 103us/step - loss: 0.1198 - acc: 0.9645\n",
            "Epoch 4/10\n",
            "60000/60000 [==============================] - 6s 97us/step - loss: 0.1013 - acc: 0.9687\n",
            "Epoch 5/10\n",
            "60000/60000 [==============================] - 6s 106us/step - loss: 0.0882 - acc: 0.9723\n",
            "Epoch 6/10\n",
            "60000/60000 [==============================] - 6s 96us/step - loss: 0.0785 - acc: 0.9756\n",
            "Epoch 7/10\n",
            "60000/60000 [==============================] - 6s 96us/step - loss: 0.0706 - acc: 0.9777\n",
            "Epoch 8/10\n",
            "60000/60000 [==============================] - 6s 93us/step - loss: 0.0659 - acc: 0.9788\n",
            "Epoch 9/10\n",
            "60000/60000 [==============================] - 6s 94us/step - loss: 0.0600 - acc: 0.9800\n",
            "Epoch 10/10\n",
            "60000/60000 [==============================] - 6s 97us/step - loss: 0.0562 - acc: 0.9816\n"
          ],
          "name": "stdout"
        },
        {
          "output_type": "execute_result",
          "data": {
            "text/plain": [
              "Text(0.5, 0, 'Epoch')"
            ]
          },
          "metadata": {
            "tags": []
          },
          "execution_count": 13
        },
        {
          "output_type": "display_data",
          "data": {
            "image/png": "[encoded data removed]",
            "text/plain": [
              "<Figure size 576x396 with 2 Axes>"
            ]
          },
          "metadata": {
            "tags": []
          }
        }
      ]
    },
    {
      "metadata": {
        "id": "rjMIiwiFtQ-1",
        "colab_type": "text"
      },
      "cell_type": "markdown",
      "source": [
        "## Saving/Loading model"
      ]
    },
    {
      "metadata": {
        "id": "yIPCb08cpmUe",
        "colab_type": "code",
        "colab": {}
      },
      "cell_type": "code",
      "source": [
        "# Save the model as HDF5 file\n",
        "model.save('my_first_model.h5') # Creates a HDF5 file 'my_model.h5'\n",
        "del model # Deletes the existing model\n",
        "\n",
        "# Load a compiled model identical to the previous one\n",
        "model = load_model('my_first_model.h5')\n"
      ],
      "execution_count": 0,
      "outputs": []
    },
    {
      "metadata": {
        "id": "vmZxLebQvJCV",
        "colab_type": "text"
      },
      "cell_type": "markdown",
      "source": [
        "Save model and weights independently:"
      ]
    },
    {
      "metadata": {
        "id": "RR7Rz3IbvLcw",
        "colab_type": "code",
        "colab": {}
      },
      "cell_type": "code",
      "source": [
        "model.save_weights('my_first_model_weights.h5') # Creates a HDF5 file with the corresponding names\n",
        "\n",
        "with open('my_first_model_architecture.json','w') as f:\n",
        "  f.write(model.to_json()) # Creates a json file 'my_first_model_architecture,json'"
      ],
      "execution_count": 0,
      "outputs": []
    },
    {
      "metadata": {
        "id": "3_GKpYxkwgKP",
        "colab_type": "text"
      },
      "cell_type": "markdown",
      "source": [
        "Load the model without having to instantiate it"
      ]
    },
    {
      "metadata": {
        "id": "_Ahir3gZwQIO",
        "colab_type": "code",
        "colab": {}
      },
      "cell_type": "code",
      "source": [
        "# Model reconstruction from JSON file\n",
        "with open('my_first_model_architecture.json','r') as f:\n",
        "  model = model_from_json(f.read())"
      ],
      "execution_count": 0,
      "outputs": []
    },
    {
      "metadata": {
        "id": "NNGBUsrPwt-b",
        "colab_type": "text"
      },
      "cell_type": "markdown",
      "source": [
        "If we do not load the model, but we have instantiated it, we can then load the weights directly:"
      ]
    },
    {
      "metadata": {
        "id": "h2jsbHFSw2SE",
        "colab_type": "code",
        "colab": {}
      },
      "cell_type": "code",
      "source": [
        "model.load_weights('my_first_model_weights.h5')"
      ],
      "execution_count": 0,
      "outputs": []
    },
    {
      "metadata": {
        "id": "apyPbaIJw9Dt",
        "colab_type": "text"
      },
      "cell_type": "markdown",
      "source": [
        "Imagine now that we modify the model and the new model shares some layers in common with the saved one. This situation is common when you do things like fine-tuning or transfer-learning, among others. We could then load the weights into a different architecture by layer name:"
      ]
    },
    {
      "metadata": {
        "id": "i_SV736Cw-3I",
        "colab_type": "code",
        "colab": {}
      },
      "cell_type": "code",
      "source": [
        "model.load_weights('my_first_model_weights.h5', by_name=True)"
      ],
      "execution_count": 0,
      "outputs": []
    },
    {
      "metadata": {
        "id": "4hCVXcwJxKLa",
        "colab_type": "text"
      },
      "cell_type": "markdown",
      "source": [
        "## Obtaining an output of an intermediate layer\n",
        "\n",
        "Sometimes we need to check how features of intermediate layers look like. This can be used for extracting features, but also for debugging purposes. That is why, we need to see how we can extract information of a trained architecture.\n",
        "\n",
        "The easiest way is to define a new model that will have as final output the given output of an specific layer. We first define the model:"
      ]
    },
    {
      "metadata": {
        "id": "P-oK4tokxKyG",
        "colab_type": "code",
        "colab": {
          "base_uri": "https://localhost:8080/",
          "height": 307
        },
        "outputId": "97219043-c442-458f-a573-3740535bedd7"
      },
      "cell_type": "code",
      "source": [
        "model = Sequential()\n",
        "model.add(Dense(64, activation='relu', input_shape=(784,), name='first_dense'))\n",
        "model.add(Dropout(0.2))\n",
        "model.add(Dense(128, activation='relu', input_shape=(784,), name='second_dense'))\n",
        "model.add(Dropout(0.2))\n",
        "model.add(Dense(10, activation='softmax', name='final_dense'))\n",
        "\n",
        "model.summary()\n"
      ],
      "execution_count": 19,
      "outputs": [
        {
          "output_type": "stream",
          "text": [
            "_________________________________________________________________\n",
            "Layer (type)                 Output Shape              Param #   \n",
            "=================================================================\n",
            "first_dense (Dense)          (None, 64)                50240     \n",
            "_________________________________________________________________\n",
            "dropout_2 (Dropout)          (None, 64)                0         \n",
            "_________________________________________________________________\n",
            "second_dense (Dense)         (None, 128)               8320      \n",
            "_________________________________________________________________\n",
            "dropout_3 (Dropout)          (None, 128)               0         \n",
            "_________________________________________________________________\n",
            "final_dense (Dense)          (None, 10)                1290      \n",
            "=================================================================\n",
            "Total params: 59,850\n",
            "Trainable params: 59,850\n",
            "Non-trainable params: 0\n",
            "_________________________________________________________________\n"
          ],
          "name": "stdout"
        }
      ]
    },
    {
      "metadata": {
        "id": "OwBMwd_sxUe6",
        "colab_type": "text"
      },
      "cell_type": "markdown",
      "source": [
        "Now, we specify the name of the layer in which we are interested to obtain the output, in our example, it is the first dense layer:"
      ]
    },
    {
      "metadata": {
        "id": "qd8SoSUGxZOi",
        "colab_type": "code",
        "colab": {
          "base_uri": "https://localhost:8080/",
          "height": 51
        },
        "outputId": "b19d8fb5-e918-4f7c-be80-84b38ee676e6"
      },
      "cell_type": "code",
      "source": [
        "from keras.models import Model\n",
        "\n",
        "layer_name = 'second_dense'\n",
        "intermediate_layer_model = Model(inputs=model.input,\n",
        "                                 outputs=model.get_layer(layer_name).output)\n",
        "intermediate_output = intermediate_layer_model.predict(X_test_flatten)\n",
        "final_output = model.predict(X_test_flatten)\n",
        "\n",
        "print('Second dense layer output shape: {0}'.format(intermediate_output.shape))\n",
        "print('Final output shape: {0}'.format(final_output.shape))"
      ],
      "execution_count": 20,
      "outputs": [
        {
          "output_type": "stream",
          "text": [
            "Second dense layer output shape: (10000, 128)\n",
            "Final output shape: (10000, 10)\n"
          ],
          "name": "stdout"
        }
      ]
    },
    {
      "metadata": {
        "id": "I5lTGaFKyFen",
        "colab_type": "text"
      },
      "cell_type": "markdown",
      "source": [
        "Alternatively, we can build a Keras function that returns the output of a certain layer given a certain input, for example: "
      ]
    },
    {
      "metadata": {
        "id": "hSsjGTrNyMD4",
        "colab_type": "code",
        "colab": {
          "base_uri": "https://localhost:8080/",
          "height": 51
        },
        "outputId": "1d1bea05-dc36-465f-ad5b-c3412d3e014a"
      },
      "cell_type": "code",
      "source": [
        "from keras import backend as K\n",
        "\n",
        "get_second_dense_layer_output = K.function([model.layers[0].input],\n",
        "                                           [model.layers[2].output])\n",
        "\n",
        "intermediate_output = get_second_dense_layer_output([X_test_flatten])[0]\n",
        "final_output = model.predict(X_test_flatten)\n",
        "\n",
        "print('Second dense layer output shape: {0}'.format(intermediate_output.shape))\n",
        "print('Final output shape: {0}'.format(final_output.shape))\n",
        "\n"
      ],
      "execution_count": 21,
      "outputs": [
        {
          "output_type": "stream",
          "text": [
            "Second dense layer output shape: (10000, 128)\n",
            "Final output shape: (10000, 10)\n"
          ],
          "name": "stdout"
        }
      ]
    },
    {
      "metadata": {
        "id": "qIHC6807yro-",
        "colab_type": "text"
      },
      "cell_type": "markdown",
      "source": [
        "## Using a Callback Function\n",
        "\n",
        "Controlling and managing callbacks is essential when training big models. Sometimes we want the network to train until it converges, but we are not able to determine the number of epochs it will take, therefore we need some mechanism to stop it. Let's see how this works, i. e. stop the training whne the validation loss is not decreasing anymore:"
      ]
    },
    {
      "metadata": {
        "id": "RDMFgMEDzJSy",
        "colab_type": "code",
        "colab": {
          "base_uri": "https://localhost:8080/",
          "height": 105
        },
        "outputId": "34691605-8c85-461a-e917-324ae251d698"
      },
      "cell_type": "code",
      "source": [
        "from keras.callbacks import EarlyStopping\n",
        "\n",
        "# Define the metric that will determine the earlyStopping\n",
        "early_stopping = EarlyStopping(monitor='val_loss', patience=2)\n",
        "\n",
        "# We use an already training model to speed up the example\n",
        "model2.fit(X_train_flatten, Y_train_class, validation_split=0.2,\n",
        "           batch_size=32, callbacks=[early_stopping])"
      ],
      "execution_count": 22,
      "outputs": [
        {
          "output_type": "stream",
          "text": [
            "Train on 48000 samples, validate on 12000 samples\n",
            "Epoch 1/1\n",
            "48000/48000 [==============================] - 5s 102us/step - loss: 0.0515 - acc: 0.9831 - val_loss: 0.0263 - val_acc: 0.9921\n"
          ],
          "name": "stdout"
        },
        {
          "output_type": "execute_result",
          "data": {
            "text/plain": [
              "<keras.callbacks.History at 0x7f214c5c5828>"
            ]
          },
          "metadata": {
            "tags": []
          },
          "execution_count": 22
        }
      ]
    },
    {
      "metadata": {
        "id": "0w9SyarLzigj",
        "colab_type": "text"
      },
      "cell_type": "markdown",
      "source": [
        "We can combine multiple callbacks when calling the fit module.\n",
        "\n",
        "## Freezing Keras Layers \n",
        "\n",
        "Sometime we need to fix weights of some layers, meaning that we will exclude them from training, i. e. their weights will never be updated. This is useful in the context of fine-tuning a model, or, for instance, when using fixed embeddings for text inputs. \n",
        "\n",
        "To do so, we can pass a trainable argument (Boolean) to a layer constructor to set a layer to be non-trainable:"
      ]
    },
    {
      "metadata": {
        "id": "lwqwe-JOznCE",
        "colab_type": "code",
        "colab": {}
      },
      "cell_type": "code",
      "source": [
        "frozen_layer = Dense(32, trainable=False)"
      ],
      "execution_count": 0,
      "outputs": []
    },
    {
      "metadata": {
        "id": "2Tx0gUtH0OJ1",
        "colab_type": "text"
      },
      "cell_type": "markdown",
      "source": [
        "Additionally, we can set the `trainable` property of a layer to `True` or `False ` after instantiation. For this to take effect, we will need to call compile() on our model after modifying the trainable property:"
      ]
    },
    {
      "metadata": {
        "id": "2C_na_g40aR0",
        "colab_type": "code",
        "colab": {
          "base_uri": "https://localhost:8080/",
          "height": 750
        },
        "outputId": "c34005e1-19e2-4e7d-9b7f-441c8c6a2b0a"
      },
      "cell_type": "code",
      "source": [
        "from keras.models import clone_model\n",
        "\n",
        "model = Sequential()\n",
        "model.add(Dense(10, activation='relu', input_shape=(784,)))\n",
        "\n",
        "# We clone model in frozen_model\n",
        "frozen_model = clone_model(model)\n",
        "frozen_model.layers[0].trainable = False\n",
        "\n",
        "# with this model the weights of the layer will be updated during training\n",
        "model.compile(loss='categorical_crossentropy',\n",
        "              optimizer='adam',\n",
        "              metrics=['accuracy'])\n",
        "\n",
        "# in the model below, the weights of `layer` will not be updated during training\n",
        "frozen_model.compile(loss='categorical_crossentropy',\n",
        "              optimizer='adam',\n",
        "              metrics=['accuracy'])\n",
        "\n",
        "model.summary()\n",
        "frozen_model.summary()\n",
        "\n",
        "score_untrained = model.evaluate(X_test_flatten, Y_test_class, verbose=0)\n",
        "score_frozen_untrained = frozen_model.evaluate(X_test_flatten, Y_test_class, verbose=0)\n",
        "\n",
        "# Uupdate the weights of `layer`\n",
        "print('Train Models:/n')\n",
        "model.fit(X_train_flatten, Y_train_class, batch_size=32, epochs=5)\n",
        "\n",
        "# Next operation will NOT update the weights of `layer`.\n",
        "# (which will also affect the above model since it uses the same layer instance)\n",
        "frozen_model.fit(X_train_flatten, Y_train_class, batch_size=32, epochs=5)\n",
        "\n",
        "score = model.evaluate(X_test_flatten, Y_test_class, verbose=0)\n",
        "score_frozen = frozen_model.evaluate(X_test_flatten, Y_test_class, verbose=0)\n",
        "\n",
        "print('Before Training: Trainable Model Test Accuracy:', score_untrained[1])\n",
        "print('After Training:  Trainable Model Test Accuracy:', score[1])\n",
        "\n",
        "print('Before Training: Frozen Model Test Accuracy:', score_frozen_untrained[1])\n",
        "print('After Training:  Frozen Model Test Accuracy:', score_frozen[1])"
      ],
      "execution_count": 25,
      "outputs": [
        {
          "output_type": "stream",
          "text": [
            "_________________________________________________________________\n",
            "Layer (type)                 Output Shape              Param #   \n",
            "=================================================================\n",
            "dense_6 (Dense)              (None, 10)                7850      \n",
            "=================================================================\n",
            "Total params: 7,850\n",
            "Trainable params: 7,850\n",
            "Non-trainable params: 0\n",
            "_________________________________________________________________\n",
            "_________________________________________________________________\n",
            "Layer (type)                 Output Shape              Param #   \n",
            "=================================================================\n",
            "dense_6 (Dense)              (None, 10)                7850      \n",
            "=================================================================\n",
            "Total params: 7,850\n",
            "Trainable params: 0\n",
            "Non-trainable params: 7,850\n",
            "_________________________________________________________________\n",
            "Train Models:/n\n",
            "Epoch 1/5\n",
            "60000/60000 [==============================] - 3s 48us/step - loss: nan - acc: 0.1107\n",
            "Epoch 2/5\n",
            "60000/60000 [==============================] - 3s 42us/step - loss: nan - acc: 0.0987\n",
            "Epoch 3/5\n",
            "60000/60000 [==============================] - 3s 42us/step - loss: nan - acc: 0.0987\n",
            "Epoch 4/5\n",
            "60000/60000 [==============================] - 3s 42us/step - loss: nan - acc: 0.0987\n",
            "Epoch 5/5\n",
            "60000/60000 [==============================] - 2s 39us/step - loss: nan - acc: 0.0987\n",
            "Epoch 1/5\n",
            "60000/60000 [==============================] - 2s 27us/step - loss: nan - acc: 0.1211\n",
            "Epoch 2/5\n",
            "60000/60000 [==============================] - 2s 26us/step - loss: nan - acc: 0.1211\n",
            "Epoch 3/5\n",
            "60000/60000 [==============================] - 2s 27us/step - loss: nan - acc: 0.1211\n",
            "Epoch 4/5\n",
            "60000/60000 [==============================] - 2s 26us/step - loss: nan - acc: 0.1211\n",
            "Epoch 5/5\n",
            "60000/60000 [==============================] - 2s 27us/step - loss: nan - acc: 0.1211\n",
            "Before Training: Trainable Model Test Accuracy: 0.1048\n",
            "After Training:  Trainable Model Test Accuracy: 0.098\n",
            "Before Training: Frozen Model Test Accuracy: 0.1167\n",
            "After Training:  Frozen Model Test Accuracy: 0.1167\n"
          ],
          "name": "stdout"
        }
      ]
    },
    {
      "metadata": {
        "id": "HTFZR8k-1Y2n",
        "colab_type": "code",
        "colab": {}
      },
      "cell_type": "code",
      "source": [
        ""
      ],
      "execution_count": 0,
      "outputs": []
    }
  ]
}