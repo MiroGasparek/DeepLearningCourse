{
  "nbformat": 4,
  "nbformat_minor": 0,
  "metadata": {
    "colab": {
      "name": "keras_test.ipynb",
      "version": "0.3.2",
      "provenance": [],
      "collapsed_sections": [],
      "include_colab_link": true
    },
    "kernelspec": {
      "name": "python3",
      "display_name": "Python 3"
    }
  },
  "cells": [
    {
      "cell_type": "markdown",
      "metadata": {
        "id": "view-in-github",
        "colab_type": "text"
      },
      "source": [
        "<a href=\"https://colab.research.google.com/github/MiroGasparek/DeepLearningCourse/blob/master/keras_test.ipynb\" target=\"_parent\"><img src=\"https://colab.research.google.com/assets/colab-badge.svg\" alt=\"Open In Colab\"/></a>"
      ]
    },
    {
      "metadata": {
        "id": "rSByncQFGoSF",
        "colab_type": "code",
        "colab": {}
      },
      "cell_type": "code",
      "source": [
        "# Import the necessary dependencies\n",
        "import numpy as np\n",
        "np.random.seed(123) # for reproducibility\n",
        "\n",
        "from keras.models import Sequential\n",
        "from keras.layers import Dense, Dropout, Activation\n",
        "from keras.utils import np_utils\n",
        "\n",
        "# Import matplotlib for plotting\n",
        "import matplotlib.pyplot as plt\n",
        "\n",
        "from keras.datasets import mnist\n"
      ],
      "execution_count": 0,
      "outputs": []
    },
    {
      "metadata": {
        "id": "49Yx0LI7hdI4",
        "colab_type": "text"
      },
      "cell_type": "markdown",
      "source": [
        "# **Introduction to Keras**"
      ]
    },
    {
      "metadata": {
        "id": "omLwu7zPljYE",
        "colab_type": "text"
      },
      "cell_type": "markdown",
      "source": [
        "## Loading datasets from Keras \n",
        "We load the image MNIST standard dataset partitioned into their corresponding labels for test data and train data. Also, we vizualize the data, both the input data (hand-written figures) and the labels. "
      ]
    },
    {
      "metadata": {
        "id": "GtupHQu1HWuc",
        "colab_type": "code",
        "colab": {}
      },
      "cell_type": "code",
      "source": [
        "# Now load the data, shuffled and split between the train and test sets\n",
        "(X_train, y_train),(X_test, y_test) = mnist.load_data()"
      ],
      "execution_count": 0,
      "outputs": []
    },
    {
      "metadata": {
        "id": "-1npyf6gHqEl",
        "colab_type": "code",
        "colab": {
          "base_uri": "https://localhost:8080/",
          "height": 396
        },
        "outputId": "837bcf82-02be-4eff-ff02-76b74794db76"
      },
      "cell_type": "code",
      "source": [
        "# Look at the images \n",
        "print('Image shape: {0}'.format(X_train.shape[1:]))\n",
        "print('Total number of training samples: {0}'.format(X_train.shape[0]))\n",
        "print('Total number of test samples: {0}'.format(X_test.shape[0]))\n",
        "\n",
        "# Display some of the images\n",
        "N = 5\n",
        "start_val = 0 # an element for the code to plot the following N**2 values\n",
        "fig, axes = plt.subplots(N, N)\n",
        "items = list(range(0, 10))\n",
        "\n",
        "for row in range(N):\n",
        "  for col in range(N):\n",
        "    index = start_val + row + N*col\n",
        "    axes[row,col].imshow(X_train[index], cmap='gray')\n",
        "    fig.subplots_adjust(hspace=0.5)\n",
        "    y_target = int(y_train[index])\n",
        "    target = str(items[y_target])\n",
        "    axes[row,col].set_title(target)\n",
        "    axes[row,col].set_xticks([])\n",
        "    axes[row,col].set_yticks([])"
      ],
      "execution_count": 22,
      "outputs": [
        {
          "output_type": "stream",
          "text": [
            "Image shape: (28, 28)\n",
            "Total number of training samples: 60000\n",
            "Total number of test samples: 10000\n"
          ],
          "name": "stdout"
        },
        {
          "output_type": "display_data",
          "data": {
            "image/png": "[encoded data removed]",
            "text/plain": [
              "<Figure size 576x396 with 25 Axes>"
            ]
          },
          "metadata": {
            "tags": []
          }
        }
      ]
    },
    {
      "metadata": {
        "colab_type": "text",
        "id": "U8S4-FKGr_jd"
      },
      "cell_type": "markdown",
      "source": [
        "## Preprocessing the Keras dataset\n",
        "We will train a simple model to classify the digits on MNIST dataset. To do this, we will reshape images to have a single dimension. Hence the same network could be used for any 1D data. When using Convolutional Neural Network (CNN), we must define a 3D shape for images (depth, width, height) and it will get much higher results."
      ]
    },
    {
      "metadata": {
        "id": "Fxi6FX5iuADt",
        "colab_type": "code",
        "colab": {
          "base_uri": "https://localhost:8080/",
          "height": 51
        },
        "outputId": "4814b5d7-2b3d-4f79-958c-65f7c701be98"
      },
      "cell_type": "code",
      "source": [
        "X_train_flatten = X_train.reshape(X_train.shape[0], X_train.shape[1]*X_train.shape[2])\n",
        "X_test_flatten = X_test.reshape(X_test.shape[0], X_test.shape[1] * X_test.shape[2])\n",
        "\n",
        "print('Old X_train shape: {0}'.format(X_train.shape))\n",
        "print('New X_train shape: {0}'.format(X_train_flatten.shape))\n",
        "\n",
        "# Normalize the dataset to the range [0,1] and it will be ready for training the model\n",
        "\n",
        "X_train_flatten = X_train_flatten.astype('float32')\n",
        "X_test_flatten = X_test_flatten.astype('float32')\n",
        "X_train_flatten /= 255\n",
        "X_test_flatten /= 255"
      ],
      "execution_count": 23,
      "outputs": [
        {
          "output_type": "stream",
          "text": [
            "Old X_train shape: (60000, 28, 28)\n",
            "New X_train shape: (60000, 784)\n"
          ],
          "name": "stdout"
        }
      ]
    },
    {
      "metadata": {
        "id": "t33l855avdTX",
        "colab_type": "text"
      },
      "cell_type": "markdown",
      "source": [
        "Now the data are ready. To train the model, we also need to make ready the labels. The `y_train` and `y_test` labels are not split into 10 distinct labels, but rather are represented as a single array with the class values. This is good for regression problem, but we want to make a classifier. So we convert 1D value to 10D vector, each dimension representing one digit value."
      ]
    },
    {
      "metadata": {
        "id": "aXBxk4ohwrM_",
        "colab_type": "code",
        "colab": {
          "base_uri": "https://localhost:8080/",
          "height": 34
        },
        "outputId": "3dd2483f-b0bb-404e-8ffb-2de6c7aec069"
      },
      "cell_type": "code",
      "source": [
        "# Convert the 1D labels value to 10D vector\n",
        "Y_train_class = np_utils.to_categorical(y_train,10)\n",
        "Y_test_class = np_utils.to_categorical(y_test,10)\n",
        "\n",
        "print('New Y_train shape: {0}'.format(Y_train_class.shape))"
      ],
      "execution_count": 24,
      "outputs": [
        {
          "output_type": "stream",
          "text": [
            "New Y_train shape: (60000, 10)\n"
          ],
          "name": "stdout"
        }
      ]
    },
    {
      "metadata": {
        "id": "vkQs6oFzxZpZ",
        "colab_type": "text"
      },
      "cell_type": "markdown",
      "source": [
        "## Model Architecture\n",
        "Model architecture definition is a critical step when trying to solve a task. Here we start from the simplest model and then we go to the more complex examples. \n",
        "\n",
        "We first declare a sequential model, which is a linear stack of neural network layers, by passing a list of layer isntances to the constructor."
      ]
    },
    {
      "metadata": {
        "id": "VF-_cIA_PMp1",
        "colab_type": "code",
        "colab": {
          "base_uri": "https://localhost:8080/",
          "height": 34
        },
        "outputId": "ba4289e0-e048-464a-cc34-4331ef418e32"
      },
      "cell_type": "code",
      "source": [
        "model = Sequential()\n",
        "\n",
        "# Add a fully connected neural network layer with the information about the input, other layers can do inference\n",
        "model.add(Dense(10, input_dim=784)) \n",
        "# Add the appropriate activation function, in this case softmax\n",
        "model.add(Activation('softmax'))\n",
        "\n",
        "# Check model shape output\n",
        "print(model.output_shape)"
      ],
      "execution_count": 27,
      "outputs": [
        {
          "output_type": "stream",
          "text": [
            "(None, 10)\n"
          ],
          "name": "stdout"
        }
      ]
    },
    {
      "metadata": {
        "id": "o_zrhDnXQymZ",
        "colab_type": "text"
      },
      "cell_type": "markdown",
      "source": [
        "The dense layer in the model is a fully connected layer with the first parameter being the output size of the layer. Subsequently, Keras automatically handles the connections between layers. The final layer has an output size of 10, corresponding to the 10 classes of digits."
      ]
    },
    {
      "metadata": {
        "id": "j46XxAZoRAYD",
        "colab_type": "code",
        "colab": {
          "base_uri": "https://localhost:8080/",
          "height": 204
        },
        "outputId": "55694c43-fe92-433d-d1d9-ddfef6271f14"
      },
      "cell_type": "code",
      "source": [
        "# Check how the model look like\n",
        "model.summary()\n"
      ],
      "execution_count": 28,
      "outputs": [
        {
          "output_type": "stream",
          "text": [
            "_________________________________________________________________\n",
            "Layer (type)                 Output Shape              Param #   \n",
            "=================================================================\n",
            "dense_3 (Dense)              (None, 10)                7850      \n",
            "_________________________________________________________________\n",
            "activation_3 (Activation)    (None, 10)                0         \n",
            "=================================================================\n",
            "Total params: 7,850\n",
            "Trainable params: 7,850\n",
            "Non-trainable params: 0\n",
            "_________________________________________________________________\n"
          ],
          "name": "stdout"
        }
      ]
    },
    {
      "metadata": {
        "id": "1sWoOcSbRL9k",
        "colab_type": "text"
      },
      "cell_type": "markdown",
      "source": [
        "## Compilation\n",
        "Before we start training, we need to configure the learning process, which is done via `compile` method. We need to define three important parameters here : \n",
        "* The loss function that the model will try to minimize\n",
        "* The optimiser to minimize the loss function\n",
        "* The list of metrics you want the model to compute\n",
        "\n",
        "We are doing classification, so we will define the `categorical_crossentropy` as the loss function and we will compute the accuracy metric. There are many other parameters I will explore later. \n",
        "\n"
      ]
    }
  ]
}